{
 "cells": [
  {
   "cell_type": "code",
   "execution_count": 1,
   "id": "15d5eacb",
   "metadata": {},
   "outputs": [],
   "source": [
    "import requests\n",
    "import pandas as pd\n",
    "from pymongo import MongoClient\n",
    "from bs4 import BeautifulSoup\n",
    "import numpy as np\n"
   ]
  },
  {
   "cell_type": "code",
   "execution_count": 4,
   "id": "2cb80a8b",
   "metadata": {},
   "outputs": [
    {
     "data": {
      "text/html": [
       "<div>\n",
       "<style scoped>\n",
       "    .dataframe tbody tr th:only-of-type {\n",
       "        vertical-align: middle;\n",
       "    }\n",
       "\n",
       "    .dataframe tbody tr th {\n",
       "        vertical-align: top;\n",
       "    }\n",
       "\n",
       "    .dataframe thead th {\n",
       "        text-align: right;\n",
       "    }\n",
       "</style>\n",
       "<table border=\"1\" class=\"dataframe\">\n",
       "  <thead>\n",
       "    <tr style=\"text-align: right;\">\n",
       "      <th></th>\n",
       "      <th>0</th>\n",
       "      <th>1</th>\n",
       "      <th>2</th>\n",
       "      <th>3</th>\n",
       "      <th>4</th>\n",
       "      <th>5</th>\n",
       "      <th>6</th>\n",
       "      <th>7</th>\n",
       "      <th>8</th>\n",
       "      <th>9</th>\n",
       "      <th>...</th>\n",
       "      <th>11</th>\n",
       "      <th>12</th>\n",
       "      <th>13</th>\n",
       "      <th>14</th>\n",
       "      <th>15</th>\n",
       "      <th>16</th>\n",
       "      <th>17</th>\n",
       "      <th>18</th>\n",
       "      <th>19</th>\n",
       "      <th>20</th>\n",
       "    </tr>\n",
       "  </thead>\n",
       "  <tbody>\n",
       "    <tr>\n",
       "      <th>0</th>\n",
       "      <td>대구광역시 동구 동대구로 475</td>\n",
       "      <td>(신천동)</td>\n",
       "      <td>4</td>\n",
       "      <td>A02</td>\n",
       "      <td>A0207</td>\n",
       "      <td>A02070200</td>\n",
       "      <td>2759598</td>\n",
       "      <td>15</td>\n",
       "      <td>20211020094120</td>\n",
       "      <td>20211212</td>\n",
       "      <td>...</td>\n",
       "      <td>http://tong.visitkorea.or.kr/cms/resource/96/2...</td>\n",
       "      <td>http://tong.visitkorea.or.kr/cms/resource/96/2...</td>\n",
       "      <td>128.6249099977</td>\n",
       "      <td>35.8729035334</td>\n",
       "      <td>6</td>\n",
       "      <td>20211020094120</td>\n",
       "      <td>0</td>\n",
       "      <td>4</td>\n",
       "      <td>053-740-0421</td>\n",
       "      <td>대구 건축문화기행 캠페인</td>\n",
       "    </tr>\n",
       "    <tr>\n",
       "      <th>1</th>\n",
       "      <td>대구광역시 동구 팔공로45길 26</td>\n",
       "      <td>(봉무동)</td>\n",
       "      <td>4</td>\n",
       "      <td>A02</td>\n",
       "      <td>A0207</td>\n",
       "      <td>A02070200</td>\n",
       "      <td>2377784</td>\n",
       "      <td>15</td>\n",
       "      <td>20160412153323</td>\n",
       "      <td>20211212</td>\n",
       "      <td>...</td>\n",
       "      <td>http://tong.visitkorea.or.kr/cms/resource/11/2...</td>\n",
       "      <td>http://tong.visitkorea.or.kr/cms/resource/11/2...</td>\n",
       "      <td>128.6379131218</td>\n",
       "      <td>35.9189735573</td>\n",
       "      <td>6</td>\n",
       "      <td>20211118131701</td>\n",
       "      <td>10246</td>\n",
       "      <td>4</td>\n",
       "      <td>053-721- 7400</td>\n",
       "      <td>2021 디지털패션문화페스티벌</td>\n",
       "    </tr>\n",
       "  </tbody>\n",
       "</table>\n",
       "<p>2 rows × 21 columns</p>\n",
       "</div>"
      ],
      "text/plain": [
       "                   0      1  2    3      4          5        6   7   \\\n",
       "0   대구광역시 동구 동대구로 475  (신천동)  4  A02  A0207  A02070200  2759598  15   \n",
       "1  대구광역시 동구 팔공로45길 26  (봉무동)  4  A02  A0207  A02070200  2377784  15   \n",
       "\n",
       "               8         9   ...  \\\n",
       "0  20211020094120  20211212  ...   \n",
       "1  20160412153323  20211212  ...   \n",
       "\n",
       "                                                  11  \\\n",
       "0  http://tong.visitkorea.or.kr/cms/resource/96/2...   \n",
       "1  http://tong.visitkorea.or.kr/cms/resource/11/2...   \n",
       "\n",
       "                                                  12              13  \\\n",
       "0  http://tong.visitkorea.or.kr/cms/resource/96/2...  128.6249099977   \n",
       "1  http://tong.visitkorea.or.kr/cms/resource/11/2...  128.6379131218   \n",
       "\n",
       "              14 15              16     17 18             19                20  \n",
       "0  35.8729035334  6  20211020094120      0  4   053-740-0421     대구 건축문화기행 캠페인  \n",
       "1  35.9189735573  6  20211118131701  10246  4  053-721- 7400  2021 디지털패션문화페스티벌  \n",
       "\n",
       "[2 rows x 21 columns]"
      ]
     },
     "execution_count": 4,
     "metadata": {},
     "output_type": "execute_result"
    }
   ],
   "source": [
    "# xml base - search festival example\n",
    "url = 'http://api.visitkorea.or.kr/openapi/service/rest/KorService/searchFestival'\n",
    "key = '?ServiceKey=S256yGjpf7ug3eDtNRoJBzPLPIED9Mzp3XfMp8aaoRB/FGnDuzloLHkpvLvTyddzf00SKndA/1naWcmH2ao5jg=='\n",
    "option = '&contentTypeId=32&areaCode=4&sigunguCode=4&MobileOS=ETC&MobileApp=AppTest'\n",
    "response = requests.get(url+key+option)\n",
    "\n",
    "xml_obj = BeautifulSoup(response.content,'lxml-xml')\n",
    "tp = xml_obj.find_all('item')\n",
    "pd.DataFrame(np.array(tp).squeeze())\n",
    "\n",
    "# api 활용법 같이 첨부합니다. \n",
    "# 관광데이터 부분은 크기가 좀크고, 호출방식이 json보다는 까다로워서 데이터 필요한것에 대한 의논을 간략하게하고, 뽑아봅시다. "
   ]
  },
  {
   "cell_type": "code",
   "execution_count": 5,
   "id": "3b75e1bd",
   "metadata": {},
   "outputs": [
    {
     "data": {
      "text/plain": [
       "'<?xml version=\"1.0\" encoding=\"UTF-8\" standalone=\"yes\"?><response><header><resultCode>0000</resultCode><resultMsg>OK</resultMsg></header><body><items><item><addr1>대구광역시 동구 동대구로 475</addr1><addr2>(신천동)</addr2><areacode>4</areacode><cat1>A02</cat1><cat2>A0207</cat2><cat3>A02070200</cat3><contentid>2759598</contentid><contenttypeid>15</contenttypeid><createdtime>20211020094120</createdtime><eventenddate>20211212</eventenddate><eventstartdate>20211015</eventstartdate><firstimage>http://tong.visitkorea.or.kr/cms/resource/96/2759596_image2_1.png</firstimage><firstimage2>http://tong.visitkorea.or.kr/cms/resource/96/2759596_image2_1.png</firstimage2><mapx>128.6249099977</mapx><mapy>35.8729035334</mapy><mlevel>6</mlevel><modifiedtime>20211020094120</modifiedtime><readcount>0</readcount><sigungucode>4</sigungucode><tel>053-740-0421</tel><title>대구 건축문화기행 캠페인</title></item><item><addr1>대구광역시 동구 팔공로45길 26</addr1><addr2>(봉무동)</addr2><areacode>4</areacode><cat1>A02</cat1><cat2>A0207</cat2><cat3>A02070200</cat3><contentid>2377784</contentid><contenttypeid>15</contenttypeid><createdtime>20160412153323</createdtime><eventenddate>20211212</eventenddate><eventstartdate>20211206</eventstartdate><firstimage>http://tong.visitkorea.or.kr/cms/resource/11/2775911_image2_1.jpg</firstimage><firstimage2>http://tong.visitkorea.or.kr/cms/resource/11/2775911_image2_1.jpg</firstimage2><mapx>128.6379131218</mapx><mapy>35.9189735573</mapy><mlevel>6</mlevel><modifiedtime>20211118131701</modifiedtime><readcount>10246</readcount><sigungucode>4</sigungucode><tel>053-721- 7400</tel><title>2021 디지털패션문화페스티벌</title></item></items><numOfRows>10</numOfRows><pageNo>1</pageNo><totalCount>2</totalCount></body></response>'"
      ]
     },
     "execution_count": 5,
     "metadata": {},
     "output_type": "execute_result"
    }
   ],
   "source": [
    "response.text\n",
    "# 컬럼명을 찾아보려 했으나 xml에 없어요\n",
    "# 컬럼은 따로 따와야할것 같아요"
   ]
  },
  {
   "cell_type": "code",
   "execution_count": null,
   "id": "83ad48d2",
   "metadata": {},
   "outputs": [],
   "source": [
    "# write\n",
    "my_client = MongoClient('mongodb://localhost:27017')\n",
    "mydb = my_client['yosul_lamp']\n",
    "mydb['programs'].insert_many(pd.DataFrame(response.json()['data']).to_dict('records'))\n",
    "\n",
    "# read\n",
    "my_client = MongoClient('mongodb://localhost:27017')\n",
    "mydb = my_client['yosul_lamp']\n",
    "pd.DataFrame(mydb['programs'].find()).drop('_id',axis=1)"
   ]
  }
 ],
 "metadata": {
  "kernelspec": {
   "display_name": "Python 3 (ipykernel)",
   "language": "python",
   "name": "python3"
  },
  "language_info": {
   "codemirror_mode": {
    "name": "ipython",
    "version": 3
   },
   "file_extension": ".py",
   "mimetype": "text/x-python",
   "name": "python",
   "nbconvert_exporter": "python",
   "pygments_lexer": "ipython3",
   "version": "3.8.6"
  }
 },
 "nbformat": 4,
 "nbformat_minor": 5
}
