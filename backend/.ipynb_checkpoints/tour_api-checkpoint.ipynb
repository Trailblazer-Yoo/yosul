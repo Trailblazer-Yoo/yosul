{
 "cells": [
  {
   "cell_type": "code",
   "execution_count": 1,
   "metadata": {
    "id": "NCvkvZguqyHO"
   },
   "outputs": [],
   "source": [
    "import requests\n",
    "from bs4 import BeautifulSoup\n",
    "import numpy as np\n",
    "import pandas as pd\n",
    "from pymongo import MongoClient"
   ]
  },
  {
   "cell_type": "code",
   "execution_count": 2,
   "metadata": {
    "id": "IhYieJeY78vi"
   },
   "outputs": [],
   "source": [
    "class DBUpdater: # 축제 정보 제외 (2016년 업로드/수정 >> 최신 정보 필요), 함수 이름 추후에 수정\n",
    "    def __init__(self):\n",
    "        self.my_client = MongoClient('mongodb://localhost:27017')\n",
    "        self.execute_update()\n",
    "\n",
    "    def get_data01(self): # 찾아가는 양조장 지정 현황\n",
    "        url = 'https://api.odcloud.kr/api/15089109/v1/uddi:c7468573-84ff-4a92-a84b-884439ce23d3'\n",
    "        key = 'S256yGjpf7ug3eDtNRoJBzPLPIED9Mzp3XfMp8aaoRB/FGnDuzloLHkpvLvTyddzf00SKndA/1naWcmH2ao5jg=='\n",
    "        params = {'serviceKey' : key, 'pageNo' : '1', 'numOfRows' : '1000', 'type' : 'json'}\n",
    "        response = requests.get(url, params=params)\n",
    "\n",
    "        per_page = response.json()['totalCount']\n",
    "        params = {'serviceKey' : key, 'pageNo' : '1', 'numOfRows' : '1000','perPage': per_page, 'type' : 'json'}\n",
    "        response = requests.get(url, params=params)\n",
    "\n",
    "        data = pd.DataFrame(response.json()['data']).to_dict('records')\n",
    "\n",
    "        self.writeDB(data, 'brewery_info')\n",
    "        \n",
    "    def get_data02(self): # 전통주 체험 프로그램 \n",
    "        url = 'https://api.odcloud.kr/api/15089109/v1/uddi:c7468573-84ff-4a92-a84b-884439ce23d3'\n",
    "        key = 'sRrCYNnRHgfaquuCbMenLKhpMPLymkyrDW5T3LesX8uQ00oxDrhvmfMcI/TOVGqrnOvriGM1aKLAFIB6tQPf3w==' # decoding\n",
    "        params = {'serviceKey' : key, 'pageNo' : '1', 'numOfRows' : '1000', 'type' : 'json'}\n",
    "        response = requests.get(url, params=params)\n",
    "        \n",
    "        per_page = response.json['totalCount']\n",
    "        params = {'serviceKey' : key, 'pageNo' : '1', 'numOfRows' : '1000','perPage': per_page, 'type' : 'json'}\n",
    "        response = requests.get(url, params=params)\n",
    "        \n",
    "        data = pd.DataFrame(response.json()['data']).to_dict('records')\n",
    "        \n",
    "        self.writeDB(data, 'brewery_programs')\n",
    "    \n",
    "    def get_data03(self): # 전통주 정보\n",
    "        url = 'https://api.odcloud.kr/api/15048755/v1/uddi:fec53d3a-2bef-4494-b50e-f4e566f403e0'\n",
    "        key = 'S256yGjpf7ug3eDtNRoJBzPLPIED9Mzp3XfMp8aaoRB/FGnDuzloLHkpvLvTyddzf00SKndA/1naWcmH2ao5jg=='\n",
    "        params = {'serviceKey' : key, 'pageNo' : '1', 'numOfRows' : '1000', 'type' : 'json'}\n",
    "        response = requests.get(url, params=params)\n",
    "\n",
    "        per_page = response.json()['totalCount']\n",
    "        params = {'serviceKey' : key, 'pageNo' : '1', 'numOfRows' : '1000','perPage': per_page, 'type' : 'json'}\n",
    "        response = requests.get(url, params=params)\n",
    "\n",
    "        data = pd.DataFrame(response.json()['data']).to_dict('records')\n",
    "\n",
    "        self.writeDB(data, 'sul_info')\n",
    "\n",
    "    def get_data04(self): # 전통주 품질인증 현황\n",
    "        url = 'https://api.odcloud.kr/api/15042291/v1/uddi:f831fb62-a6ca-483b-94f8-dfc2243fa3ef'\n",
    "        key = 'https://api.odcloud.kr/api/15042291/v1/uddi:f831fb62-a6ca-483b-94f8-dfc2243fa3ef'\n",
    "        params = {'serviceKey' : key, 'pageNo' : '1', 'numOfRows' : '1000', 'type' : 'json'}\n",
    "        response = requests.get(url, params=params)\n",
    "\n",
    "        per_page = response.json()['totalCount']\n",
    "        params = {'serviceKey' : key, 'pageNo' : '1', 'numOfRows' : '1000','perPage': per_page, 'type' : 'json'}\n",
    "        response = requests.get(url, params=params)\n",
    "\n",
    "        data = pd.DataFrame(response.json()['data']).to_dict('records')\n",
    "\n",
    "        self.writeDB(data, 'sul_quality')\n",
    "\n",
    "    def get_data05(self): # 국문 관광정보 서비스 >> 일단 행사 (어떤 항목을 사용할 것인?)\n",
    "        url = 'http://api.visitkorea.or.kr/openapi/service/rest/KorService/searchFestival'\n",
    "        key = 'S256yGjpf7ug3eDtNRoJBzPLPIED9Mzp3XfMp8aaoRB/FGnDuzloLHkpvLvTyddzf00SKndA/1naWcmH2ao5jg=='\n",
    "        params = {'serviceKey' : key, 'numOfRows' : '10', 'pageNo' : '1', 'MobileOS' : 'ETC', 'MobileApp' : 'AppTest', 'arrange' : 'A', 'listYN' : 'Y', 'areaCode' : '4', 'sigunguCode' : '4', 'eventStartDate' : '20210101', 'eventEndDate' : '', 'modifiedtime' : '' }\n",
    "        response = requests.get(url, params=params)\n",
    "\n",
    "        xml_obj = BeautifulSoup(response.content, 'lxml-xml')\n",
    "        tp = xml_obj.find_all('item')\n",
    "        columns = [tp[0].find_all()[i].name for i in range(len(tp[0]))]\n",
    "\n",
    "        data = pd.DataFrame(np.array(tp).squeeze(), columns=columns).to_dict('records')\n",
    "\n",
    "        self.writeDB(data, 'tour_info_kor')\n",
    "\n",
    "    def get_data06(self): # 영문 관광정보 서비스\n",
    "        url = 'http://api.visitkorea.or.kr/openapi/service/rest/EngService/searchFestival'\n",
    "        key = 'S256yGjpf7ug3eDtNRoJBzPLPIED9Mzp3XfMp8aaoRB/FGnDuzloLHkpvLvTyddzf00SKndA/1naWcmH2ao5jg=='\n",
    "        params = {'serviceKey' : '서비스키', 'numOfRows' : '10', 'pageNo' : '1', 'MobileOS' : 'ETC', 'MobileApp' : 'AppTest', 'listYN' : 'Y', 'arrange' : 'A', 'areaCode' : '4', 'sigunguCode' : '4', 'eventStartDate' : '20210101', 'eventEndDate' : '', 'modifiedtime' : '' }\n",
    "        response = requests.get(url, params=params)\n",
    "\n",
    "        xml_obj = BeautifulSoup(response.content, 'lxml-xml')\n",
    "        tp = xml_obj.find_all('item')\n",
    "        columns = [tp[0].find_all()[i].name for i in range(len(tp[0]))]\n",
    "\n",
    "        data = pd.DataFrame(np.array(tp).squeeze(), columns=columns).to_dict('records')\n",
    "\n",
    "        self.writeDB(data, 'tour_info_eng')\n",
    "        \n",
    "    def write_DB(self, data, where):\n",
    "        self.mydb[where].insert_many(data)\n",
    "        \n",
    "    def execute_update(self):\n",
    "        self.get_data01()\n",
    "        self.get_data02()\n",
    "        self.get_data03()\n",
    "        self.get_data04()\n",
    "        self.get_data05()\n",
    "        self.get_data06()"
   ]
  },
  {
   "cell_type": "markdown",
   "metadata": {
    "id": "2obxISNEJ1dO"
   },
   "source": [
    "### 할 일\n",
    "\n",
    "- 국문/영문 관광정보 >> 어떤 정보를 활용할 것인가?\n",
    "- 국문/영문 관광정보 >> 지역/시군 코드 활용하여 전국 정보 얻어오기 >> 클래스 별도로 구성\n",
    "- 국문/영문 관광정보 >> 행사 데이터: 시작일을 2022년 01월 01로 설정할 경우, 아무 값도 얻지 못함\n",
    "- 국문/영문 관광정보 >> 파라미터 확인: 어떻게 전체 데이터를 다 가져올 수 있는가\n",
    "- 클래스 >> 반복적으로 사용되는 내용 정리하기, 리스트 & 반복문\n",
    "- DB >> 관광/술 DB 관리를 별도로 하는가? 같이 하는가?\n",
    "- DB >> 클래스 실행 최종 결"
   ]
  },
  {
   "cell_type": "code",
   "execution_count": null,
   "metadata": {},
   "outputs": [],
   "source": []
  }
 ],
 "metadata": {
  "colab": {
   "authorship_tag": "ABX9TyNqc6vBV6VuEofpbRJxV2w0",
   "collapsed_sections": [],
   "name": "tour_api.ipynb",
   "provenance": []
  },
  "kernelspec": {
   "display_name": "Python 3 (ipykernel)",
   "language": "python",
   "name": "python3"
  },
  "language_info": {
   "codemirror_mode": {
    "name": "ipython",
    "version": 3
   },
   "file_extension": ".py",
   "mimetype": "text/x-python",
   "name": "python",
   "nbconvert_exporter": "python",
   "pygments_lexer": "ipython3",
   "version": "3.8.6"
  }
 },
 "nbformat": 4,
 "nbformat_minor": 1
}
