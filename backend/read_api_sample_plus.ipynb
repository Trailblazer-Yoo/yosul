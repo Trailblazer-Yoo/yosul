{
 "cells": [
  {
   "cell_type": "code",
   "execution_count": 1,
   "id": "d17bb85a",
   "metadata": {},
   "outputs": [],
   "source": [
    "import requests\n",
    "import pandas as pd\n",
    "from pymongo import MongoClient"
   ]
  },
  {
   "cell_type": "code",
   "execution_count": null,
   "id": "6863fb09",
   "metadata": {},
   "outputs": [],
   "source": [
    "class DBUpdater:\n",
    "    def __init__(self):\n",
    "        self.my_client = MongoClient('mongodb://localhost:27017')\n",
    "        self.mydb = my_client['yosul_lamp']\n",
    "        \n",
    "    def get_data01(self):\n",
    "        url = 'https://api.odcloud.kr/api/15089109/v1/uddi:c7468573-84ff-4a92-a84b-884439ce23d3'\n",
    "        key = 'sRrCYNnRHgfaquuCbMenLKhpMPLymkyrDW5T3LesX8uQ00oxDrhvmfMcI/TOVGqrnOvriGM1aKLAFIB6tQPf3w==' # decoding\n",
    "        params = {'serviceKey' : key, 'pageNo' : '1', 'numOfRows' : '100', 'type' : 'json'}\n",
    "        response = requests.get(url, params=params)\n",
    "        \n",
    "#         per_page = response.json['totalCount']\n",
    "#         params = {'serviceKey' : key, 'pageNo' : '1', 'numOfRows' : '100','perPage': per_page, 'type' : 'json'}\n",
    "#         response = requests.get(url, params=params)\n",
    "        \n",
    "        data = pd.DataFrame(response.json()['data']).to_dict('records')\n",
    "        \n",
    "        return self.writeDB(data)\n",
    "    \n",
    "    def get_data02(self):\n",
    "        return self.writeDB(data)\n",
    "        \n",
    "    def write_DB(self, data)\n",
    "        self.mydb['programs'].insert_many(data)\n",
    "        \n",
    "    def execute_update(self):\n",
    "        # daily? monthly? yearly?\n",
    "        pass"
   ]
  }
 ],
 "metadata": {
  "kernelspec": {
   "display_name": "yeosul",
   "language": "python",
   "name": "yeosul"
  },
  "language_info": {
   "codemirror_mode": {
    "name": "ipython",
    "version": 3
   },
   "file_extension": ".py",
   "mimetype": "text/x-python",
   "name": "python",
   "nbconvert_exporter": "python",
   "pygments_lexer": "ipython3",
   "version": "3.10.4"
  }
 },
 "nbformat": 4,
 "nbformat_minor": 5
}
