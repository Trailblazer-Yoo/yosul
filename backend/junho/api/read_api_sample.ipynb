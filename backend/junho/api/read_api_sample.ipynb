{
 "cells": [
  {
   "cell_type": "code",
   "execution_count": null,
   "id": "f26bb3d9",
   "metadata": {},
   "outputs": [],
   "source": [
    "import requests\n",
    "import pandas as pd\n",
    "from pymongo import MongoClient"
   ]
  },
  {
   "cell_type": "code",
   "execution_count": null,
   "id": "31303a2d",
   "metadata": {},
   "outputs": [],
   "source": [
    "# 전통주 체험프로그램 api\n",
    "url = 'https://api.odcloud.kr/api/15089109/v1/uddi:c7468573-84ff-4a92-a84b-884439ce23d3'\n",
    "key = 'sRrCYNnRHgfaquuCbMenLKhpMPLymkyrDW5T3LesX8uQ00oxDrhvmfMcI/TOVGqrnOvriGM1aKLAFIB6tQPf3w==' # decoding\n",
    "params = {'serviceKey' : key, 'pageNo' : '1', 'numOfRows' : '100','perPage':'100', 'type' : 'json'}\n",
    "response = requests.get(url,params=params)\n",
    "\n",
    "# response.json().keys()"
   ]
  },
  {
   "cell_type": "code",
   "execution_count": null,
   "id": "2ffa585e",
   "metadata": {},
   "outputs": [],
   "source": [
    "# write\n",
    "my_client = MongoClient('mongodb://localhost:27017')\n",
    "mydb = my_client['yosul_lamp']\n",
    "mydb['programs'].insert_many(pd.DataFrame(response.json()['data']).to_dict('records'))"
   ]
  },
  {
   "cell_type": "code",
   "execution_count": null,
   "id": "721aaee7",
   "metadata": {},
   "outputs": [],
   "source": [
    "# read\n",
    "my_client = MongoClient('mongodb://localhost:27017')\n",
    "mydb = my_client['yosul_lamp']\n",
    "pd.DataFrame(mydb['programs'].find()).drop('_id',axis=1)"
   ]
  }
 ],
 "metadata": {
  "kernelspec": {
   "display_name": "yeosul",
   "language": "python",
   "name": "yeosul"
  },
  "language_info": {
   "codemirror_mode": {
    "name": "ipython",
    "version": 3
   },
   "file_extension": ".py",
   "mimetype": "text/x-python",
   "name": "python",
   "nbconvert_exporter": "python",
   "pygments_lexer": "ipython3",
   "version": "3.10.4"
  }
 },
 "nbformat": 4,
 "nbformat_minor": 5
}
